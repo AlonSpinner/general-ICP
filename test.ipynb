{
 "cells": [
  {
   "cell_type": "code",
   "execution_count": 1,
   "metadata": {},
   "outputs": [],
   "source": [
    "import clusters\n",
    "import utils.plotting2D\n",
    "import utils.transforms2D\n",
    "import copy\n",
    "\n",
    "import numpy as np\n",
    "import matplotlib.pyplot as plt\n",
    "%matplotlib qt\n",
    "\n",
    "# import gtsam\n",
    "# import os\n",
    "# from gtsam.symbol_shorthand import L, X\n",
    "\n",
    "#import gicp"
   ]
  },
  {
   "cell_type": "markdown",
   "metadata": {},
   "source": [
    "# Define point clouds"
   ]
  },
  {
   "cell_type": "code",
   "execution_count": 2,
   "metadata": {},
   "outputs": [],
   "source": [
    "\n",
    "np.random.seed(seed=2)\n",
    "ax, _ = utils.plotting2D.prepAxes()\n",
    "\n",
    "\n",
    "classLabels = (\"table\",\"MEP\",\"chair\",\"pillar\",\"clutter\")\n",
    "xrange = (-2,2)\n",
    "yrange = (-1,3)\n",
    "sigmarange = (-0.5,0.5)\n",
    "\n",
    "cluster1 = clusters.cluster2()\n",
    "cluster1.fillClusterRandomly(20,xrange, yrange, sigmarange, classLabels)\n",
    "\n",
    "rot = utils.transforms2D.R2(np.radians(90))\n",
    "t = np.array([[5],\n",
    "              [0]])\n",
    "cluster2 = copy.deepcopy(cluster1)\n",
    "cluster2.transform(rot,t, transformCov = True)\n",
    "\n",
    "cluster1.plot(ax = ax, plotIndex = True,plotCov = True, markerSize = 30, markerColor = 'b', markerShape = 'o')\n",
    "cluster2.plot(ax = ax, plotIndex = True,plotCov = True, markerSize = 30, markerColor = 'r', markerShape = 'o')"
   ]
  },
  {
   "cell_type": "markdown",
   "metadata": {},
   "source": [
    "# Rotating covariances"
   ]
  },
  {
   "cell_type": "code",
   "execution_count": 36,
   "metadata": {},
   "outputs": [
    {
     "name": "stdout",
     "output_type": "stream",
     "text": [
      "[[[0. 0.]\n",
      "  [0. 0.]]\n",
      "\n",
      " [[0. 0.]\n",
      "  [0. 0.]]]\n"
     ]
    }
   ],
   "source": [
    "test = np.array([np.eye(2), np.array([[1,2],[3,4]])])\n",
    "r = utils.transforms2D.R2(np.radians(90))\n",
    "\n",
    "test2 = np.zeros_like(test)\n",
    "for i,m in enumerate(test):\n",
    "    test2[i] = r @ m @ r.T\n",
    "\n",
    "tmp = (r @ test[:,None,:] @ r.T).squeeze()\n",
    "print(tmp-test2)"
   ]
  }
 ],
 "metadata": {
  "interpreter": {
   "hash": "30d3d2a437c141a2ca155708e77ef0fb47f3bb6e3e8e854aeca73371a2a95d1c"
  },
  "kernelspec": {
   "display_name": "Python 3.9.10 ('smallslam')",
   "language": "python",
   "name": "python3"
  },
  "language_info": {
   "codemirror_mode": {
    "name": "ipython",
    "version": 3
   },
   "file_extension": ".py",
   "mimetype": "text/x-python",
   "name": "python",
   "nbconvert_exporter": "python",
   "pygments_lexer": "ipython3",
   "version": "3.9.10"
  },
  "orig_nbformat": 4
 },
 "nbformat": 4,
 "nbformat_minor": 2
}
