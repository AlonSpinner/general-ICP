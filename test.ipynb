{
 "cells": [
  {
   "cell_type": "code",
   "execution_count": 1,
   "metadata": {},
   "outputs": [],
   "source": [
    "import clusters\n",
    "import utils.plotting2D\n",
    "import utils.transforms2D\n",
    "import copy\n",
    "\n",
    "import numpy as np\n",
    "import matplotlib.pyplot as plt\n",
    "%matplotlib qt\n",
    "\n",
    "import gicp\n",
    "import gicp_linear\n",
    "\n",
    "from sklearn.neighbors import NearestNeighbors\n",
    "\n",
    "# import gtsam\n",
    "# import os\n",
    "# from gtsam.symbol_shorthand import L, X\n",
    "\n",
    "#import gicp"
   ]
  },
  {
   "cell_type": "markdown",
   "metadata": {},
   "source": [
    "# Define point clouds"
   ]
  },
  {
   "cell_type": "code",
   "execution_count": 3,
   "metadata": {},
   "outputs": [],
   "source": [
    "\n",
    "np.random.seed(seed=2)\n",
    "\n",
    "classLabels = (\"table\",\"MEP\",\"chair\",\"pillar\",\"clutter\")\n",
    "xrange = (-2,2)\n",
    "yrange = (-1,3)\n",
    "sigmarange = (-0.5,0.5)\n",
    "\n",
    "cluster1 = clusters.cluster2()\n",
    "cluster1.fillClusterRandomly(20,xrange, yrange, sigmarange, classLabels)\n",
    "\n",
    "rot = utils.transforms2D.R2(np.radians(90))\n",
    "t = np.array([[5],\n",
    "              [0]])\n",
    "cluster2 = copy.deepcopy(cluster1)\n",
    "cluster2.transform(rot,t, transformCov = True)\n",
    "\n",
    "ax, _ = utils.plotting2D.prepAxes()\n",
    "cluster1.plot(ax = ax, plotIndex = True,plotCov = True, markerSize = 30, markerColor = 'b', markerShape = 'o')\n",
    "cluster2.plot(ax = ax, plotIndex = True,plotCov = True, markerSize = 30, markerColor = 'r', markerShape = 'o')"
   ]
  },
  {
   "cell_type": "markdown",
   "metadata": {},
   "source": [
    "# Rotating covariances"
   ]
  },
  {
   "cell_type": "code",
   "execution_count": 6,
   "metadata": {},
   "outputs": [
    {
     "name": "stdout",
     "output_type": "stream",
     "text": [
      "[[[0. 0.]\n",
      "  [0. 0.]]\n",
      "\n",
      " [[0. 0.]\n",
      "  [0. 0.]]]\n"
     ]
    }
   ],
   "source": [
    "test = np.array([np.eye(2), np.array([[1,2],[3,4]])])\n",
    "r = utils.transforms2D.R2(np.radians(90))\n",
    "\n",
    "test2 = np.zeros_like(test)\n",
    "for i,m in enumerate(test):\n",
    "    test2[i] = r @ m @ r.T\n",
    "\n",
    "tmp = (r @ test[:,None,:] @ r.T).squeeze()\n",
    "print(tmp-test2)"
   ]
  },
  {
   "cell_type": "markdown",
   "metadata": {},
   "source": [
    "# Check Nearest Neighbors"
   ]
  },
  {
   "cell_type": "code",
   "execution_count": 11,
   "metadata": {},
   "outputs": [
    {
     "name": "stdout",
     "output_type": "stream",
     "text": [
      "[[0]\n",
      " [1]\n",
      " [2]\n",
      " [3]]\n"
     ]
    }
   ],
   "source": [
    "np.random.seed(seed=1)\n",
    "\n",
    "classLabels = (\"table\",\"MEP\",\"chair\",\"pillar\",\"clutter\")\n",
    "xrange = (-2,2)\n",
    "yrange = (-1,3)\n",
    "sigmarange = (-0.5,0.5)\n",
    "\n",
    "cluster1 = clusters.cluster2()\n",
    "cluster1.fillClusterRandomly(4,xrange, yrange, sigmarange, classLabels)\n",
    "\n",
    "rot = utils.transforms2D.R2(np.radians(0))\n",
    "t = np.array([[0.2],\n",
    "              [0]])\n",
    "cluster2 = copy.deepcopy(cluster1)\n",
    "cluster2.transform(rot,t, transformCov = True)\n",
    "\n",
    "ax, _ = utils.plotting2D.prepAxes()\n",
    "cluster1.plot(ax = ax, plotIndex = True,plotCov = True, markerSize = 30, markerColor = 'b', markerShape = 'o')\n",
    "cluster2.plot(ax = ax, plotIndex = True,plotCov = True, markerSize = 30, markerColor = 'r', markerShape = 'o')\n",
    " \n",
    "neigh = NearestNeighbors(n_neighbors = 1)\n",
    "neigh.fit(cluster1.points.reshape(-1,2))\n",
    "i = neigh.kneighbors(cluster2.points.reshape(-1,2), return_distance = False)\n",
    "print(i)"
   ]
  },
  {
   "cell_type": "markdown",
   "metadata": {},
   "source": [
    "# General ICP"
   ]
  },
  {
   "cell_type": "code",
   "execution_count": 2,
   "metadata": {},
   "outputs": [
    {
     "name": "stdout",
     "output_type": "stream",
     "text": [
      "[ 1.40707674  0.54131872 -0.47255984]\n",
      "1026.2669410260762\n"
     ]
    }
   ],
   "source": [
    "np.random.seed(seed=2)\n",
    "\n",
    "classLabels = (\"table\",\"MEP\",\"chair\",\"pillar\",\"clutter\")\n",
    "xrange = (-2,2)\n",
    "yrange = (-1,3)\n",
    "sigmarange = (-0.5,0.5)\n",
    "\n",
    "cluster1 = clusters.cluster2()\n",
    "cluster1.fillClusterRandomly(20,xrange, yrange, sigmarange, classLabels)\n",
    "\n",
    "rot = utils.transforms2D.R2(np.radians(90))\n",
    "t = np.array([[5],\n",
    "              [0]])\n",
    "cluster2 = copy.deepcopy(cluster1)\n",
    "cluster2.transform(rot,t, transformCov = True)\n",
    "\n",
    "x, fmin = gicp.generalICP(cluster1.points,cluster1.covariances,\n",
    "                            cluster2.points, cluster2.covariances)\n",
    "print(x)\n",
    "print(fmin)\n",
    "print(itr)\n",
    "\n",
    "est_T = utils.transforms2D.x_to_T(x)\n",
    "invEst_T = utils.transforms2D.inverseTransform(est_T)\n",
    "invEst_R, invEst_t = utils.transforms2D.T2Rt(invEst_T)\n",
    "\n",
    "cluster2.transform(invEst_R,invEst_t, transformCov = True)\n",
    "\n",
    "ax, _ = utils.plotting2D.prepAxes()\n",
    "cluster1.plot(ax = ax, plotIndex = True,plotCov = True, markerSize = 30, markerColor = 'b', markerShape = 'o')\n",
    "cluster2.plot(ax = ax, plotIndex = True,plotCov = True, markerSize = 30, markerColor = 'r', markerShape = 'o')"
   ]
  },
  {
   "cell_type": "markdown",
   "metadata": {},
   "source": [
    "# linear General ICP"
   ]
  },
  {
   "cell_type": "code",
   "execution_count": 5,
   "metadata": {},
   "outputs": [
    {
     "name": "stdout",
     "output_type": "stream",
     "text": [
      "[-5.  0. -0.]\n",
      "6.979842751302748e-27\n",
      "50\n"
     ]
    }
   ],
   "source": [
    "np.random.seed(seed=2)\n",
    "\n",
    "classLabels = (\"table\",\"MEP\",\"chair\",\"pillar\",\"clutter\")\n",
    "xrange = (-2,2)\n",
    "yrange = (-1,3)\n",
    "sigmarange = (-0.5,0.5)\n",
    "\n",
    "cluster1 = clusters.cluster2()\n",
    "cluster1.fillClusterRandomly(20,xrange, yrange, sigmarange, classLabels)\n",
    "\n",
    "x_true = np.array([5,0,0])\n",
    "R_true, t_true = utils.transforms2D.x_to_Rt(x_true)\n",
    "cluster2 = copy.deepcopy(cluster1)\n",
    "cluster2.transform(R_true,t_true, transformCov = True)\n",
    "\n",
    "invx_est, fmin, itr = gicp_linear.gicp_linear(cluster2.points, cluster2.covariances, #source\n",
    "                                        cluster1.points,cluster1.covariances, #target\n",
    "                                        x0 =  utils.transforms2D.inverse_x(x_true))\n",
    "print(invx_est)\n",
    "print(fmin)\n",
    "print(itr)\n",
    "\n",
    "invEst_R, invEst_t = utils.transforms2D.x_to_Rt(invx_est)\n",
    "\n",
    "cluster2.transform(invEst_R,invEst_t, transformCov = True)\n",
    "\n",
    "ax, _ = utils.plotting2D.prepAxes()\n",
    "cluster1.plot(ax = ax, plotIndex = True,plotCov = True, markerSize = 30, markerColor = 'b', markerShape = 'o')\n",
    "cluster2.plot(ax = ax, plotIndex = True,plotCov = True, markerSize = 30, markerColor = 'r', markerShape = 'o')"
   ]
  }
 ],
 "metadata": {
  "interpreter": {
   "hash": "30d3d2a437c141a2ca155708e77ef0fb47f3bb6e3e8e854aeca73371a2a95d1c"
  },
  "kernelspec": {
   "display_name": "Python 3.9.10 ('smallslam')",
   "language": "python",
   "name": "python3"
  },
  "language_info": {
   "codemirror_mode": {
    "name": "ipython",
    "version": 3
   },
   "file_extension": ".py",
   "mimetype": "text/x-python",
   "name": "python",
   "nbconvert_exporter": "python",
   "pygments_lexer": "ipython3",
   "version": "3.9.10"
  },
  "orig_nbformat": 4
 },
 "nbformat": 4,
 "nbformat_minor": 2
}
