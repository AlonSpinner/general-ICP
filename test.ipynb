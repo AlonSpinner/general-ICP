{
 "cells": [
  {
   "cell_type": "code",
   "execution_count": 1,
   "metadata": {},
   "outputs": [],
   "source": [
    "import clusters\n",
    "import utils.plotting2D\n",
    "import utils.transforms2D\n",
    "import copy\n",
    "\n",
    "import numpy as np\n",
    "import matplotlib.pyplot as plt\n",
    "%matplotlib qt\n",
    "\n",
    "import generalICP\n",
    "\n",
    "# import gtsam\n",
    "# import os\n",
    "# from gtsam.symbol_shorthand import L, X\n",
    "\n",
    "#import gicp"
   ]
  },
  {
   "cell_type": "markdown",
   "metadata": {},
   "source": [
    "# Define point clouds"
   ]
  },
  {
   "cell_type": "code",
   "execution_count": 2,
   "metadata": {},
   "outputs": [],
   "source": [
    "\n",
    "np.random.seed(seed=2)\n",
    "\n",
    "classLabels = (\"table\",\"MEP\",\"chair\",\"pillar\",\"clutter\")\n",
    "xrange = (-2,2)\n",
    "yrange = (-1,3)\n",
    "sigmarange = (-0.5,0.5)\n",
    "\n",
    "cluster1 = clusters.cluster2()\n",
    "cluster1.fillClusterRandomly(20,xrange, yrange, sigmarange, classLabels)\n",
    "\n",
    "rot = utils.transforms2D.R2(np.radians(90))\n",
    "t = np.array([[5],\n",
    "              [0]])\n",
    "cluster2 = copy.deepcopy(cluster1)\n",
    "cluster2.transform(rot,t, transformCov = True)\n",
    "\n",
    "ax, _ = utils.plotting2D.prepAxes()\n",
    "cluster1.plot(ax = ax, plotIndex = True,plotCov = True, markerSize = 30, markerColor = 'b', markerShape = 'o')\n",
    "cluster2.plot(ax = ax, plotIndex = True,plotCov = True, markerSize = 30, markerColor = 'r', markerShape = 'o')"
   ]
  },
  {
   "cell_type": "markdown",
   "metadata": {},
   "source": [
    "# Rotating covariances"
   ]
  },
  {
   "cell_type": "code",
   "execution_count": 4,
   "metadata": {},
   "outputs": [
    {
     "name": "stdout",
     "output_type": "stream",
     "text": [
      "[[[0. 0.]\n",
      "  [0. 0.]]\n",
      "\n",
      " [[0. 0.]\n",
      "  [0. 0.]]]\n"
     ]
    },
    {
     "name": "stderr",
     "output_type": "stream",
     "text": [
      "virtual void QEventDispatcherUNIX::registerSocketNotifier(QSocketNotifier*): Multiple socket notifiers for same socket 11 and type Read\n"
     ]
    }
   ],
   "source": [
    "test = np.array([np.eye(2), np.array([[1,2],[3,4]])])\n",
    "r = utils.transforms2D.R2(np.radians(90))\n",
    "\n",
    "test2 = np.zeros_like(test)\n",
    "for i,m in enumerate(test):\n",
    "    test2[i] = r @ m @ r.T\n",
    "\n",
    "tmp = (r @ test[:,None,:] @ r.T).squeeze()\n",
    "print(tmp-test2)"
   ]
  },
  {
   "cell_type": "markdown",
   "metadata": {},
   "source": [
    "# General ICP"
   ]
  },
  {
   "cell_type": "code",
   "execution_count": 3,
   "metadata": {},
   "outputs": [
    {
     "ename": "AssertionError",
     "evalue": "",
     "output_type": "error",
     "traceback": [
      "\u001b[0;31m---------------------------------------------------------------------------\u001b[0m",
      "\u001b[0;31mAssertionError\u001b[0m                            Traceback (most recent call last)",
      "\u001b[1;32m/home/alon18/Desktop/Link to repos/general-ICP/test.ipynb Cell 7'\u001b[0m in \u001b[0;36m<module>\u001b[0;34m\u001b[0m\n\u001b[1;32m     <a href='vscode-notebook-cell:/home/alon18/Desktop/Link%20to%20repos/general-ICP/test.ipynb#ch0000006?line=13'>14</a>\u001b[0m cluster2 \u001b[39m=\u001b[39m copy\u001b[39m.\u001b[39mdeepcopy(cluster1)\n\u001b[1;32m     <a href='vscode-notebook-cell:/home/alon18/Desktop/Link%20to%20repos/general-ICP/test.ipynb#ch0000006?line=14'>15</a>\u001b[0m cluster2\u001b[39m.\u001b[39mtransform(rot,t, transformCov \u001b[39m=\u001b[39m \u001b[39mTrue\u001b[39;00m)\n\u001b[0;32m---> <a href='vscode-notebook-cell:/home/alon18/Desktop/Link%20to%20repos/general-ICP/test.ipynb#ch0000006?line=16'>17</a>\u001b[0m x \u001b[39m=\u001b[39m generalICP\u001b[39m.\u001b[39;49mgeneralICP(cluster1\u001b[39m.\u001b[39;49mpoints,cluster1\u001b[39m.\u001b[39;49mcovariances,\n\u001b[1;32m     <a href='vscode-notebook-cell:/home/alon18/Desktop/Link%20to%20repos/general-ICP/test.ipynb#ch0000006?line=17'>18</a>\u001b[0m                             cluster2\u001b[39m.\u001b[39;49mpoints, cluster2\u001b[39m.\u001b[39;49mcovariances)\n\u001b[1;32m     <a href='vscode-notebook-cell:/home/alon18/Desktop/Link%20to%20repos/general-ICP/test.ipynb#ch0000006?line=18'>19</a>\u001b[0m \u001b[39mprint\u001b[39m(x)\n\u001b[1;32m     <a href='vscode-notebook-cell:/home/alon18/Desktop/Link%20to%20repos/general-ICP/test.ipynb#ch0000006?line=19'>20</a>\u001b[0m est_T \u001b[39m=\u001b[39m utils\u001b[39m.\u001b[39mtransforms2D\u001b[39m.\u001b[39mx_to_T(x)\n",
      "File \u001b[0;32m~/repos/general-ICP/generalICP.py:35\u001b[0m, in \u001b[0;36mgeneralICP\u001b[0;34m(sourcePoints, sourceCov, targetPoints, targetCov, x0, tol, n_iter_max)\u001b[0m\n\u001b[1;32m     <a href='file:///~/repos/general-ICP/generalICP.py?line=30'>31</a>\u001b[0m f \u001b[39m=\u001b[39m \u001b[39mlambda\u001b[39;00m x: loss(x, TsourcePoints , targetPoints[i],\n\u001b[1;32m     <a href='file:///~/repos/general-ICP/generalICP.py?line=31'>32</a>\u001b[0m              sourceCov, targetCov[i])\n\u001b[1;32m     <a href='file:///~/repos/general-ICP/generalICP.py?line=32'>33</a>\u001b[0m fprime \u001b[39m=\u001b[39m \u001b[39mlambda\u001b[39;00m x: grad(x, TsourcePoints , targetPoints[i],\n\u001b[1;32m     <a href='file:///~/repos/general-ICP/generalICP.py?line=33'>34</a>\u001b[0m              sourceCov, targetCov[i])\n\u001b[0;32m---> <a href='file:///~/repos/general-ICP/generalICP.py?line=34'>35</a>\u001b[0m out \u001b[39m=\u001b[39m fmin_cg(f \u001b[39m=\u001b[39;49m f, x0 \u001b[39m=\u001b[39;49m x, disp \u001b[39m=\u001b[39;49m \u001b[39mFalse\u001b[39;49;00m, full_output \u001b[39m=\u001b[39;49m \u001b[39mTrue\u001b[39;49;00m)\n\u001b[1;32m     <a href='file:///~/repos/general-ICP/generalICP.py?line=35'>36</a>\u001b[0m x \u001b[39m=\u001b[39m out[\u001b[39m0\u001b[39m]; fmin \u001b[39m=\u001b[39m out[\u001b[39m1\u001b[39m]\n\u001b[1;32m     <a href='file:///~/repos/general-ICP/generalICP.py?line=37'>38</a>\u001b[0m \u001b[39mif\u001b[39;00m itr \u001b[39m>\u001b[39m n_iter_max \u001b[39mor\u001b[39;00m \u001b[39mabs\u001b[39m(fmin \u001b[39m-\u001b[39m fminPrev) \u001b[39m<\u001b[39m tol:\n",
      "File \u001b[0;32m~/LocalInstalls/miniconda3/envs/smallslam/lib/python3.9/site-packages/scipy/optimize/_optimize.py:1554\u001b[0m, in \u001b[0;36mfmin_cg\u001b[0;34m(f, x0, fprime, args, gtol, norm, epsilon, maxiter, full_output, disp, retall, callback)\u001b[0m\n\u001b[1;32m   <a href='file:///~/LocalInstalls/miniconda3/envs/smallslam/lib/python3.9/site-packages/scipy/optimize/_optimize.py?line=1396'>1397</a>\u001b[0m \u001b[39m\"\"\"\u001b[39;00m\n\u001b[1;32m   <a href='file:///~/LocalInstalls/miniconda3/envs/smallslam/lib/python3.9/site-packages/scipy/optimize/_optimize.py?line=1397'>1398</a>\u001b[0m \u001b[39mMinimize a function using a nonlinear conjugate gradient algorithm.\u001b[39;00m\n\u001b[1;32m   <a href='file:///~/LocalInstalls/miniconda3/envs/smallslam/lib/python3.9/site-packages/scipy/optimize/_optimize.py?line=1398'>1399</a>\u001b[0m \n\u001b[0;32m   (...)\u001b[0m\n\u001b[1;32m   <a href='file:///~/LocalInstalls/miniconda3/envs/smallslam/lib/python3.9/site-packages/scipy/optimize/_optimize.py?line=1544'>1545</a>\u001b[0m \n\u001b[1;32m   <a href='file:///~/LocalInstalls/miniconda3/envs/smallslam/lib/python3.9/site-packages/scipy/optimize/_optimize.py?line=1545'>1546</a>\u001b[0m \u001b[39m\"\"\"\u001b[39;00m\n\u001b[1;32m   <a href='file:///~/LocalInstalls/miniconda3/envs/smallslam/lib/python3.9/site-packages/scipy/optimize/_optimize.py?line=1546'>1547</a>\u001b[0m opts \u001b[39m=\u001b[39m {\u001b[39m'\u001b[39m\u001b[39mgtol\u001b[39m\u001b[39m'\u001b[39m: gtol,\n\u001b[1;32m   <a href='file:///~/LocalInstalls/miniconda3/envs/smallslam/lib/python3.9/site-packages/scipy/optimize/_optimize.py?line=1547'>1548</a>\u001b[0m         \u001b[39m'\u001b[39m\u001b[39mnorm\u001b[39m\u001b[39m'\u001b[39m: norm,\n\u001b[1;32m   <a href='file:///~/LocalInstalls/miniconda3/envs/smallslam/lib/python3.9/site-packages/scipy/optimize/_optimize.py?line=1548'>1549</a>\u001b[0m         \u001b[39m'\u001b[39m\u001b[39meps\u001b[39m\u001b[39m'\u001b[39m: epsilon,\n\u001b[1;32m   <a href='file:///~/LocalInstalls/miniconda3/envs/smallslam/lib/python3.9/site-packages/scipy/optimize/_optimize.py?line=1549'>1550</a>\u001b[0m         \u001b[39m'\u001b[39m\u001b[39mdisp\u001b[39m\u001b[39m'\u001b[39m: disp,\n\u001b[1;32m   <a href='file:///~/LocalInstalls/miniconda3/envs/smallslam/lib/python3.9/site-packages/scipy/optimize/_optimize.py?line=1550'>1551</a>\u001b[0m         \u001b[39m'\u001b[39m\u001b[39mmaxiter\u001b[39m\u001b[39m'\u001b[39m: maxiter,\n\u001b[1;32m   <a href='file:///~/LocalInstalls/miniconda3/envs/smallslam/lib/python3.9/site-packages/scipy/optimize/_optimize.py?line=1551'>1552</a>\u001b[0m         \u001b[39m'\u001b[39m\u001b[39mreturn_all\u001b[39m\u001b[39m'\u001b[39m: retall}\n\u001b[0;32m-> <a href='file:///~/LocalInstalls/miniconda3/envs/smallslam/lib/python3.9/site-packages/scipy/optimize/_optimize.py?line=1553'>1554</a>\u001b[0m res \u001b[39m=\u001b[39m _minimize_cg(f, x0, args, fprime, callback\u001b[39m=\u001b[39;49mcallback, \u001b[39m*\u001b[39;49m\u001b[39m*\u001b[39;49mopts)\n\u001b[1;32m   <a href='file:///~/LocalInstalls/miniconda3/envs/smallslam/lib/python3.9/site-packages/scipy/optimize/_optimize.py?line=1555'>1556</a>\u001b[0m \u001b[39mif\u001b[39;00m full_output:\n\u001b[1;32m   <a href='file:///~/LocalInstalls/miniconda3/envs/smallslam/lib/python3.9/site-packages/scipy/optimize/_optimize.py?line=1556'>1557</a>\u001b[0m     retlist \u001b[39m=\u001b[39m res[\u001b[39m'\u001b[39m\u001b[39mx\u001b[39m\u001b[39m'\u001b[39m], res[\u001b[39m'\u001b[39m\u001b[39mfun\u001b[39m\u001b[39m'\u001b[39m], res[\u001b[39m'\u001b[39m\u001b[39mnfev\u001b[39m\u001b[39m'\u001b[39m], res[\u001b[39m'\u001b[39m\u001b[39mnjev\u001b[39m\u001b[39m'\u001b[39m], res[\u001b[39m'\u001b[39m\u001b[39mstatus\u001b[39m\u001b[39m'\u001b[39m]\n",
      "File \u001b[0;32m~/LocalInstalls/miniconda3/envs/smallslam/lib/python3.9/site-packages/scipy/optimize/_optimize.py:1609\u001b[0m, in \u001b[0;36m_minimize_cg\u001b[0;34m(fun, x0, args, jac, callback, gtol, norm, eps, maxiter, disp, return_all, finite_diff_rel_step, **unknown_options)\u001b[0m\n\u001b[1;32m   <a href='file:///~/LocalInstalls/miniconda3/envs/smallslam/lib/python3.9/site-packages/scipy/optimize/_optimize.py?line=1605'>1606</a>\u001b[0m \u001b[39mif\u001b[39;00m maxiter \u001b[39mis\u001b[39;00m \u001b[39mNone\u001b[39;00m:\n\u001b[1;32m   <a href='file:///~/LocalInstalls/miniconda3/envs/smallslam/lib/python3.9/site-packages/scipy/optimize/_optimize.py?line=1606'>1607</a>\u001b[0m     maxiter \u001b[39m=\u001b[39m \u001b[39mlen\u001b[39m(x0) \u001b[39m*\u001b[39m \u001b[39m200\u001b[39m\n\u001b[0;32m-> <a href='file:///~/LocalInstalls/miniconda3/envs/smallslam/lib/python3.9/site-packages/scipy/optimize/_optimize.py?line=1608'>1609</a>\u001b[0m sf \u001b[39m=\u001b[39m _prepare_scalar_function(fun, x0, jac\u001b[39m=\u001b[39;49mjac, args\u001b[39m=\u001b[39;49margs, epsilon\u001b[39m=\u001b[39;49meps,\n\u001b[1;32m   <a href='file:///~/LocalInstalls/miniconda3/envs/smallslam/lib/python3.9/site-packages/scipy/optimize/_optimize.py?line=1609'>1610</a>\u001b[0m                               finite_diff_rel_step\u001b[39m=\u001b[39;49mfinite_diff_rel_step)\n\u001b[1;32m   <a href='file:///~/LocalInstalls/miniconda3/envs/smallslam/lib/python3.9/site-packages/scipy/optimize/_optimize.py?line=1611'>1612</a>\u001b[0m f \u001b[39m=\u001b[39m sf\u001b[39m.\u001b[39mfun\n\u001b[1;32m   <a href='file:///~/LocalInstalls/miniconda3/envs/smallslam/lib/python3.9/site-packages/scipy/optimize/_optimize.py?line=1612'>1613</a>\u001b[0m myfprime \u001b[39m=\u001b[39m sf\u001b[39m.\u001b[39mgrad\n",
      "File \u001b[0;32m~/LocalInstalls/miniconda3/envs/smallslam/lib/python3.9/site-packages/scipy/optimize/_optimize.py:263\u001b[0m, in \u001b[0;36m_prepare_scalar_function\u001b[0;34m(fun, x0, jac, args, bounds, epsilon, finite_diff_rel_step, hess)\u001b[0m\n\u001b[1;32m    <a href='file:///~/LocalInstalls/miniconda3/envs/smallslam/lib/python3.9/site-packages/scipy/optimize/_optimize.py?line=258'>259</a>\u001b[0m     bounds \u001b[39m=\u001b[39m (\u001b[39m-\u001b[39mnp\u001b[39m.\u001b[39minf, np\u001b[39m.\u001b[39minf)\n\u001b[1;32m    <a href='file:///~/LocalInstalls/miniconda3/envs/smallslam/lib/python3.9/site-packages/scipy/optimize/_optimize.py?line=260'>261</a>\u001b[0m \u001b[39m# ScalarFunction caches. Reuse of fun(x) during grad\u001b[39;00m\n\u001b[1;32m    <a href='file:///~/LocalInstalls/miniconda3/envs/smallslam/lib/python3.9/site-packages/scipy/optimize/_optimize.py?line=261'>262</a>\u001b[0m \u001b[39m# calculation reduces overall function evaluations.\u001b[39;00m\n\u001b[0;32m--> <a href='file:///~/LocalInstalls/miniconda3/envs/smallslam/lib/python3.9/site-packages/scipy/optimize/_optimize.py?line=262'>263</a>\u001b[0m sf \u001b[39m=\u001b[39m ScalarFunction(fun, x0, args, grad, hess,\n\u001b[1;32m    <a href='file:///~/LocalInstalls/miniconda3/envs/smallslam/lib/python3.9/site-packages/scipy/optimize/_optimize.py?line=263'>264</a>\u001b[0m                     finite_diff_rel_step, bounds, epsilon\u001b[39m=\u001b[39;49mepsilon)\n\u001b[1;32m    <a href='file:///~/LocalInstalls/miniconda3/envs/smallslam/lib/python3.9/site-packages/scipy/optimize/_optimize.py?line=265'>266</a>\u001b[0m \u001b[39mreturn\u001b[39;00m sf\n",
      "File \u001b[0;32m~/LocalInstalls/miniconda3/envs/smallslam/lib/python3.9/site-packages/scipy/optimize/_differentiable_functions.py:158\u001b[0m, in \u001b[0;36mScalarFunction.__init__\u001b[0;34m(self, fun, x0, args, grad, hess, finite_diff_rel_step, finite_diff_bounds, epsilon)\u001b[0m\n\u001b[1;32m    <a href='file:///~/LocalInstalls/miniconda3/envs/smallslam/lib/python3.9/site-packages/scipy/optimize/_differentiable_functions.py?line=154'>155</a>\u001b[0m     \u001b[39mself\u001b[39m\u001b[39m.\u001b[39mf \u001b[39m=\u001b[39m fun_wrapped(\u001b[39mself\u001b[39m\u001b[39m.\u001b[39mx)\n\u001b[1;32m    <a href='file:///~/LocalInstalls/miniconda3/envs/smallslam/lib/python3.9/site-packages/scipy/optimize/_differentiable_functions.py?line=156'>157</a>\u001b[0m \u001b[39mself\u001b[39m\u001b[39m.\u001b[39m_update_fun_impl \u001b[39m=\u001b[39m update_fun\n\u001b[0;32m--> <a href='file:///~/LocalInstalls/miniconda3/envs/smallslam/lib/python3.9/site-packages/scipy/optimize/_differentiable_functions.py?line=157'>158</a>\u001b[0m \u001b[39mself\u001b[39;49m\u001b[39m.\u001b[39;49m_update_fun()\n\u001b[1;32m    <a href='file:///~/LocalInstalls/miniconda3/envs/smallslam/lib/python3.9/site-packages/scipy/optimize/_differentiable_functions.py?line=159'>160</a>\u001b[0m \u001b[39m# Gradient evaluation\u001b[39;00m\n\u001b[1;32m    <a href='file:///~/LocalInstalls/miniconda3/envs/smallslam/lib/python3.9/site-packages/scipy/optimize/_differentiable_functions.py?line=160'>161</a>\u001b[0m \u001b[39mif\u001b[39;00m callable(grad):\n",
      "File \u001b[0;32m~/LocalInstalls/miniconda3/envs/smallslam/lib/python3.9/site-packages/scipy/optimize/_differentiable_functions.py:251\u001b[0m, in \u001b[0;36mScalarFunction._update_fun\u001b[0;34m(self)\u001b[0m\n\u001b[1;32m    <a href='file:///~/LocalInstalls/miniconda3/envs/smallslam/lib/python3.9/site-packages/scipy/optimize/_differentiable_functions.py?line=248'>249</a>\u001b[0m \u001b[39mdef\u001b[39;00m \u001b[39m_update_fun\u001b[39m(\u001b[39mself\u001b[39m):\n\u001b[1;32m    <a href='file:///~/LocalInstalls/miniconda3/envs/smallslam/lib/python3.9/site-packages/scipy/optimize/_differentiable_functions.py?line=249'>250</a>\u001b[0m     \u001b[39mif\u001b[39;00m \u001b[39mnot\u001b[39;00m \u001b[39mself\u001b[39m\u001b[39m.\u001b[39mf_updated:\n\u001b[0;32m--> <a href='file:///~/LocalInstalls/miniconda3/envs/smallslam/lib/python3.9/site-packages/scipy/optimize/_differentiable_functions.py?line=250'>251</a>\u001b[0m         \u001b[39mself\u001b[39;49m\u001b[39m.\u001b[39;49m_update_fun_impl()\n\u001b[1;32m    <a href='file:///~/LocalInstalls/miniconda3/envs/smallslam/lib/python3.9/site-packages/scipy/optimize/_differentiable_functions.py?line=251'>252</a>\u001b[0m         \u001b[39mself\u001b[39m\u001b[39m.\u001b[39mf_updated \u001b[39m=\u001b[39m \u001b[39mTrue\u001b[39;00m\n",
      "File \u001b[0;32m~/LocalInstalls/miniconda3/envs/smallslam/lib/python3.9/site-packages/scipy/optimize/_differentiable_functions.py:155\u001b[0m, in \u001b[0;36mScalarFunction.__init__.<locals>.update_fun\u001b[0;34m()\u001b[0m\n\u001b[1;32m    <a href='file:///~/LocalInstalls/miniconda3/envs/smallslam/lib/python3.9/site-packages/scipy/optimize/_differentiable_functions.py?line=153'>154</a>\u001b[0m \u001b[39mdef\u001b[39;00m \u001b[39mupdate_fun\u001b[39m():\n\u001b[0;32m--> <a href='file:///~/LocalInstalls/miniconda3/envs/smallslam/lib/python3.9/site-packages/scipy/optimize/_differentiable_functions.py?line=154'>155</a>\u001b[0m     \u001b[39mself\u001b[39m\u001b[39m.\u001b[39mf \u001b[39m=\u001b[39m fun_wrapped(\u001b[39mself\u001b[39;49m\u001b[39m.\u001b[39;49mx)\n",
      "File \u001b[0;32m~/LocalInstalls/miniconda3/envs/smallslam/lib/python3.9/site-packages/scipy/optimize/_differentiable_functions.py:137\u001b[0m, in \u001b[0;36mScalarFunction.__init__.<locals>.fun_wrapped\u001b[0;34m(x)\u001b[0m\n\u001b[1;32m    <a href='file:///~/LocalInstalls/miniconda3/envs/smallslam/lib/python3.9/site-packages/scipy/optimize/_differentiable_functions.py?line=132'>133</a>\u001b[0m \u001b[39mself\u001b[39m\u001b[39m.\u001b[39mnfev \u001b[39m+\u001b[39m\u001b[39m=\u001b[39m \u001b[39m1\u001b[39m\n\u001b[1;32m    <a href='file:///~/LocalInstalls/miniconda3/envs/smallslam/lib/python3.9/site-packages/scipy/optimize/_differentiable_functions.py?line=133'>134</a>\u001b[0m \u001b[39m# Send a copy because the user may overwrite it.\u001b[39;00m\n\u001b[1;32m    <a href='file:///~/LocalInstalls/miniconda3/envs/smallslam/lib/python3.9/site-packages/scipy/optimize/_differentiable_functions.py?line=134'>135</a>\u001b[0m \u001b[39m# Overwriting results in undefined behaviour because\u001b[39;00m\n\u001b[1;32m    <a href='file:///~/LocalInstalls/miniconda3/envs/smallslam/lib/python3.9/site-packages/scipy/optimize/_differentiable_functions.py?line=135'>136</a>\u001b[0m \u001b[39m# fun(self.x) will change self.x, with the two no longer linked.\u001b[39;00m\n\u001b[0;32m--> <a href='file:///~/LocalInstalls/miniconda3/envs/smallslam/lib/python3.9/site-packages/scipy/optimize/_differentiable_functions.py?line=136'>137</a>\u001b[0m fx \u001b[39m=\u001b[39m fun(np\u001b[39m.\u001b[39;49mcopy(x), \u001b[39m*\u001b[39;49margs)\n\u001b[1;32m    <a href='file:///~/LocalInstalls/miniconda3/envs/smallslam/lib/python3.9/site-packages/scipy/optimize/_differentiable_functions.py?line=137'>138</a>\u001b[0m \u001b[39m# Make sure the function returns a true scalar\u001b[39;00m\n\u001b[1;32m    <a href='file:///~/LocalInstalls/miniconda3/envs/smallslam/lib/python3.9/site-packages/scipy/optimize/_differentiable_functions.py?line=138'>139</a>\u001b[0m \u001b[39mif\u001b[39;00m \u001b[39mnot\u001b[39;00m np\u001b[39m.\u001b[39misscalar(fx):\n",
      "File \u001b[0;32m~/repos/general-ICP/generalICP.py:31\u001b[0m, in \u001b[0;36mgeneralICP.<locals>.<lambda>\u001b[0;34m(x)\u001b[0m\n\u001b[1;32m     <a href='file:///~/repos/general-ICP/generalICP.py?line=27'>28</a>\u001b[0m neigh\u001b[39m.\u001b[39mfit(targetPoints\u001b[39m.\u001b[39mreshape(\u001b[39m-\u001b[39m\u001b[39m1\u001b[39m,\u001b[39m2\u001b[39m))\n\u001b[1;32m     <a href='file:///~/repos/general-ICP/generalICP.py?line=28'>29</a>\u001b[0m i \u001b[39m=\u001b[39m neigh\u001b[39m.\u001b[39mkneighbors(TsourcePoints\u001b[39m.\u001b[39mreshape(\u001b[39m-\u001b[39m\u001b[39m1\u001b[39m,\u001b[39m2\u001b[39m), return_distance \u001b[39m=\u001b[39m \u001b[39mFalse\u001b[39;00m)\n\u001b[0;32m---> <a href='file:///~/repos/general-ICP/generalICP.py?line=30'>31</a>\u001b[0m f \u001b[39m=\u001b[39m \u001b[39mlambda\u001b[39;00m x: loss(x, TsourcePoints , targetPoints[i],\n\u001b[1;32m     <a href='file:///~/repos/general-ICP/generalICP.py?line=31'>32</a>\u001b[0m              sourceCov, targetCov[i])\n\u001b[1;32m     <a href='file:///~/repos/general-ICP/generalICP.py?line=32'>33</a>\u001b[0m fprime \u001b[39m=\u001b[39m \u001b[39mlambda\u001b[39;00m x: grad(x, TsourcePoints , targetPoints[i],\n\u001b[1;32m     <a href='file:///~/repos/general-ICP/generalICP.py?line=33'>34</a>\u001b[0m              sourceCov, targetCov[i])\n\u001b[1;32m     <a href='file:///~/repos/general-ICP/generalICP.py?line=34'>35</a>\u001b[0m out \u001b[39m=\u001b[39m fmin_cg(f \u001b[39m=\u001b[39m f, x0 \u001b[39m=\u001b[39m x, disp \u001b[39m=\u001b[39m \u001b[39mFalse\u001b[39;00m, full_output \u001b[39m=\u001b[39m \u001b[39mTrue\u001b[39;00m)\n",
      "File \u001b[0;32m~/repos/general-ICP/generalICP.py:89\u001b[0m, in \u001b[0;36mloss\u001b[0;34m(x, a, b, aCov, bCov)\u001b[0m\n\u001b[1;32m     <a href='file:///~/repos/general-ICP/generalICP.py?line=81'>82</a>\u001b[0m \u001b[39mdef\u001b[39;00m \u001b[39mloss\u001b[39m(x,a,b,aCov,bCov):\n\u001b[1;32m     <a href='file:///~/repos/general-ICP/generalICP.py?line=82'>83</a>\u001b[0m     \u001b[39m'''\u001b[39;00m\n\u001b[1;32m     <a href='file:///~/repos/general-ICP/generalICP.py?line=83'>84</a>\u001b[0m \u001b[39m    x : (x,y,theta) representing transform\u001b[39;00m\n\u001b[1;32m     <a href='file:///~/repos/general-ICP/generalICP.py?line=84'>85</a>\u001b[0m \u001b[39m    a : source points 2xm\u001b[39;00m\n\u001b[1;32m     <a href='file:///~/repos/general-ICP/generalICP.py?line=85'>86</a>\u001b[0m \u001b[39m    b : target point 2xm\u001b[39;00m\n\u001b[1;32m     <a href='file:///~/repos/general-ICP/generalICP.py?line=86'>87</a>\u001b[0m \u001b[39m    aCov,bCov ~ mx2x2 covariance matrices\u001b[39;00m\n\u001b[1;32m     <a href='file:///~/repos/general-ICP/generalICP.py?line=87'>88</a>\u001b[0m \u001b[39m    '''\u001b[39;00m\n\u001b[0;32m---> <a href='file:///~/repos/general-ICP/generalICP.py?line=88'>89</a>\u001b[0m     \u001b[39massert\u001b[39;00m a\u001b[39m.\u001b[39mshape \u001b[39m==\u001b[39m b\u001b[39m.\u001b[39mshape\n\u001b[1;32m     <a href='file:///~/repos/general-ICP/generalICP.py?line=89'>90</a>\u001b[0m     \u001b[39massert\u001b[39;00m aCov\u001b[39m.\u001b[39mshape \u001b[39m==\u001b[39m bCov\u001b[39m.\u001b[39mshape\n\u001b[1;32m     <a href='file:///~/repos/general-ICP/generalICP.py?line=91'>92</a>\u001b[0m     loss \u001b[39m=\u001b[39m \u001b[39m0\u001b[39m\n",
      "\u001b[0;31mAssertionError\u001b[0m: "
     ]
    }
   ],
   "source": [
    "np.random.seed(seed=2)\n",
    "\n",
    "classLabels = (\"table\",\"MEP\",\"chair\",\"pillar\",\"clutter\")\n",
    "xrange = (-2,2)\n",
    "yrange = (-1,3)\n",
    "sigmarange = (-0.5,0.5)\n",
    "\n",
    "cluster1 = clusters.cluster2()\n",
    "cluster1.fillClusterRandomly(20,xrange, yrange, sigmarange, classLabels)\n",
    "\n",
    "rot = utils.transforms2D.R2(np.radians(90))\n",
    "t = np.array([[5],\n",
    "              [0]])\n",
    "cluster2 = copy.deepcopy(cluster1)\n",
    "cluster2.transform(rot,t, transformCov = True)\n",
    "\n",
    "x = generalICP.generalICP(cluster1.points,cluster1.covariances,\n",
    "                            cluster2.points, cluster2.covariances)\n",
    "print(x)\n",
    "est_T = utils.transforms2D.x_to_T(x)\n",
    "invEst_T = utils.transforms2D.inverseTransform(est_T)\n",
    "invEst_R, invEst_t = utils.transforms2D.T2Rt(invEst_T)\n",
    "\n",
    "cluster2.transform(invEst_R,invEst_t, transformCov = True)\n",
    "\n",
    "ax, _ = utils.plotting2D.prepAxes()\n",
    "cluster1.plot(ax = ax, plotIndex = True,plotCov = True, markerSize = 30, markerColor = 'b', markerShape = 'o')\n",
    "cluster2.plot(ax = ax, plotIndex = True,plotCov = True, markerSize = 30, markerColor = 'r', markerShape = 'o')"
   ]
  },
  {
   "cell_type": "code",
   "execution_count": 15,
   "metadata": {},
   "outputs": [
    {
     "ename": "IndexError",
     "evalue": "index 1 is out of bounds for axis 2 with size 1",
     "output_type": "error",
     "traceback": [
      "\u001b[0;31m---------------------------------------------------------------------------\u001b[0m",
      "\u001b[0;31mIndexError\u001b[0m                                Traceback (most recent call last)",
      "\u001b[1;32m/home/alon18/Desktop/Link to repos/general-ICP/test.ipynb Cell 8'\u001b[0m in \u001b[0;36m<module>\u001b[0;34m\u001b[0m\n\u001b[1;32m      <a href='vscode-notebook-cell:/home/alon18/Desktop/Link%20to%20repos/general-ICP/test.ipynb#ch0000007?line=0'>1</a>\u001b[0m test \u001b[39m=\u001b[39m np\u001b[39m.\u001b[39mreshape(cluster1\u001b[39m.\u001b[39mpoints,(\u001b[39m20\u001b[39m,\u001b[39m2\u001b[39m,\u001b[39m1\u001b[39m))\n\u001b[1;32m      <a href='vscode-notebook-cell:/home/alon18/Desktop/Link%20to%20repos/general-ICP/test.ipynb#ch0000007?line=1'>2</a>\u001b[0m test2 \u001b[39m=\u001b[39m test[[\u001b[39m1\u001b[39m,\u001b[39m5\u001b[39m,\u001b[39m10\u001b[39m]]\n\u001b[0;32m----> <a href='vscode-notebook-cell:/home/alon18/Desktop/Link%20to%20repos/general-ICP/test.ipynb#ch0000007?line=2'>3</a>\u001b[0m test2[\u001b[39m1\u001b[39;49m,\u001b[39m1\u001b[39;49m,\u001b[39m1\u001b[39;49m]\n",
      "\u001b[0;31mIndexError\u001b[0m: index 1 is out of bounds for axis 2 with size 1"
     ]
    }
   ],
   "source": [
    "test = np.reshape(cluster1.points,(20,2,1))\n",
    "test2 = test[[1,5,10]]\n",
    "test2[1,1,1]\n"
   ]
  }
 ],
 "metadata": {
  "interpreter": {
   "hash": "30d3d2a437c141a2ca155708e77ef0fb47f3bb6e3e8e854aeca73371a2a95d1c"
  },
  "kernelspec": {
   "display_name": "Python 3.9.10 ('smallslam')",
   "language": "python",
   "name": "python3"
  },
  "language_info": {
   "codemirror_mode": {
    "name": "ipython",
    "version": 3
   },
   "file_extension": ".py",
   "mimetype": "text/x-python",
   "name": "python",
   "nbconvert_exporter": "python",
   "pygments_lexer": "ipython3",
   "version": "3.9.10"
  },
  "orig_nbformat": 4
 },
 "nbformat": 4,
 "nbformat_minor": 2
}
